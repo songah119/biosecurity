{
 "cells": [
  {
   "cell_type": "code",
   "execution_count": 18,
   "metadata": {},
   "outputs": [],
   "source": [
    "from tqdm import tqdm\n",
    "import numpy as np\n",
    "import pandas as pd\n",
    "import math\n",
    "from collections import defaultdict"
   ]
  },
  {
   "cell_type": "code",
   "execution_count": 19,
   "metadata": {},
   "outputs": [],
   "source": [
    "data_df_1 = pd.read_parquet('./session100k_img1M.parquet')\n",
    "edge_df_1 = pd.read_parquet('./session100k_img1M_edges.parquet')\n",
    "\n",
    "data_df_2 = pd.read_parquet('./session5M_img50M.parquet')\n",
    "edge_df_2 = pd.read_parquet('./session5M_img50M_edges.parquet')\n",
    "\n",
    "data_df_3 = pd.read_parquet('./session1M_img10M.parquet')\n",
    "edge_df_3 = pd.read_parquet('./session1M_img10M_edges.parquet')"
   ]
  },
  {
   "cell_type": "code",
   "execution_count": 20,
   "metadata": {},
   "outputs": [],
   "source": [
    "def dfs(image_id, visited, cluster, edges):\n",
    "    stack = [image_id]  # 스택을 생성하고 시작 이미지 ID를 넣습니다.\n",
    "\n",
    "    while stack:  # 스택이 비어질 때까지 반복합니다.\n",
    "        current_image_id = stack.pop()  # 스택의 가장 위에 있는 이미지 ID를 꺼냅니다.\n",
    "        visited.add(current_image_id)  # 방문한 이미지 ID로 표시합니다.\n",
    "        cluster.append(current_image_id)  # 현재 클러스터에 이미지 ID를 추가합니다.\n",
    "\n",
    "        if current_image_id in edges:  # 현재 이미지 ID에 연결된 이미지 ID가 있는지 확인합니다.\n",
    "            for next_image_id in edges[current_image_id]:  # 현재 이미지 ID에 연결된 이미지 ID를 하나씩 확인합니다.\n",
    "                if next_image_id not in visited:  # 이미 방문하지 않은 이미지 ID인 경우에만 처리합니다.\n",
    "                    stack.append(next_image_id)  # 다음 이미지 ID를 스택에 추가하여 깊이 우선 탐색을 계속합니다."
   ]
  },
  {
   "cell_type": "code",
   "execution_count": 21,
   "metadata": {},
   "outputs": [],
   "source": [
    "def get_session_clusters(data_df, edge_df):\n",
    "    # 이미지 간 연결 정보를 저장할 딕셔너리\n",
    "    edges = {}\n",
    "\n",
    "    # 이미지 간 연결 정보를 저장할 defaultdict를 생성합니다.\n",
    "    edges = defaultdict(list)\n",
    "\n",
    "    # data_df를 순회하면서 이미지 간 연결 정보를 추가합니다.\n",
    "    for _, row in data_df.iterrows():\n",
    "        session_id = row['session_id']\n",
    "        img_lst = row['image_id']\n",
    "        for image_id, next_image_id in zip(img_lst, img_lst[1:]):\n",
    "            edges[image_id].append(next_image_id)\n",
    "            edges[next_image_id].append(image_id)\n",
    "\n",
    "    # edge_df를 순회하면서 이미지 간 연결 정보를 추가합니다.\n",
    "    for _, row in edge_df.iterrows():\n",
    "        image_id_from = row['image_id_from']\n",
    "        image_id_to = row['image_id_to']\n",
    "        edges[image_id_from].append(image_id_to)\n",
    "        edges[image_id_to].append(image_id_from)\n",
    "\n",
    "    # edge_df의 이미지 ID로 구성된 집합을 생성하고, 해당 이미지 ID가 edges에 없는 경우 빈 리스트로 초기화합니다.\n",
    "    for image_id in set(edge_df['image_id_from']).union(set(edge_df['image_id_to'])):\n",
    "        edges.setdefault(image_id, [])\n",
    "\n",
    "    clusters = []  # 클러스터를 저장할 리스트\n",
    "    visited = set()  # 이미 방문한 이미지 ID를 저장할 집합\n",
    "\n",
    "    # edges의 모든 이미지 ID를 순회하면서 클러스터를 생성합니다.\n",
    "    for image_id in edges.keys():\n",
    "        if image_id not in visited:  # 이미 방문하지 않은 이미지 ID인 경우에만 처리합니다.\n",
    "            new_cluster = []  # 새로운 클러스터를 생성합니다.\n",
    "            dfs(image_id, visited, new_cluster, edges)  # DFS를 이용하여 클러스터를 생성합니다.\n",
    "            clusters.append(new_cluster)  # 생성된 클러스터를 clusters 리스트에 추가합니다.\n",
    "\n",
    "    return clusters  # 생성된 클러스터 리스트를 반환합니다.\n"
   ]
  },
  {
   "cell_type": "code",
   "execution_count": 22,
   "metadata": {},
   "outputs": [],
   "source": [
    "def mapping_img2session(data_df):\n",
    "        # 이미지 ID를 세션 ID로 매핑하는 딕셔너리 생성\n",
    "    image_to_session = {}\n",
    "    for _, row in data_df.iterrows():\n",
    "        session_id = row['session_id']\n",
    "        images = row['image_id']\n",
    "        if isinstance(images, int):\n",
    "            # 이미지 ID가 하나인 경우\n",
    "            image_to_session[images] = session_id\n",
    "        else:\n",
    "            # 이미지 ID가 리스트인 경우\n",
    "            for image_id in images:\n",
    "                image_to_session[image_id] = session_id\n",
    "    return image_to_session\n"
   ]
  },
  {
   "cell_type": "code",
   "execution_count": 23,
   "metadata": {},
   "outputs": [],
   "source": [
    "def get_cluster(data_df, edge_df, get_cluster_idx):\n",
    "    # 클러스터 생성\n",
    "    session_cluster = get_session_clusters(data_df, edge_df)\n",
    "\n",
    "    # 이미지 ID를 세션 ID로 매핑하는 딕셔너리 생성\n",
    "    image_to_session = mapping_img2session(data_df)\n",
    "\n",
    "    session_id_lst = []\n",
    "    image_id_lst = []\n",
    "    # 클러스터 내의 세션 ID와 이미지 ID 추출하여 결과 데이터 구성\n",
    "    for cluster in session_cluster:\n",
    "        session_ids = [image_to_session.get(image_id) for image_id in cluster if image_to_session.get(image_id) is not None]\n",
    "        image_ids = list(set(cluster))\n",
    "        session_id_lst.append(session_ids)\n",
    "        image_id_lst.append(image_ids)\n",
    "\n",
    "    res = {'session_id': session_id_lst, 'image_id': image_id_lst}\n",
    "    result_df = pd.DataFrame(res)\n",
    "\n",
    "    # 결과 데이터프레임 정렬 및 길이 관련 정보 계산\n",
    "    result_df['session_id_len'] = result_df['session_id'].apply(len)\n",
    "    result_df = result_df.sort_values(by='session_id_len', ignore_index=True, ascending=False).drop(columns='session_id_len')\n",
    "\n",
    "    list_len_session = result_df['session_id'].apply(len).tolist()\n",
    "    len_cluster = len(result_df)\n",
    "    max_cluster = max(list_len_session)\n",
    "    mean_cluster = sum(list_len_session) / len_cluster\n",
    "\n",
    "    get_cluster_idx = 0  # 가져올 클러스터의 인덱스\n",
    "    idx_df = result_df.loc[get_cluster_idx]\n",
    "    len_session = len(idx_df['session_id'])\n",
    "    num_images_in_cluster = len(idx_df['image_id'])\n",
    "    num_edges_in_cluster = 0\n",
    "\n",
    "    return len_cluster, max_cluster, mean_cluster, list_len_session, len_session, num_images_in_cluster, num_edges_in_cluster"
   ]
  },
  {
   "cell_type": "code",
   "execution_count": 24,
   "metadata": {},
   "outputs": [
    {
     "name": "stdout",
     "output_type": "stream",
     "text": [
      "session 클러스터의 개수: 1000\n",
      "최대 클러스터의 sessioin 개수: 9364\n",
      "클러스터들 평균 session 개수: 9364\n",
      "10 번째 클러스터의 session 개수: 9364\n",
      "10 번째 클러스터의 image 개수: 8918\n",
      "10 번째 클러스터의 edge 개수: 0\n",
      "[9364, 8689, 6329, 6325, 5845, 5520, 5510, 5442, 5400, 5253, 5119, 5062, 4612, 4609, 4246, 4124, 4028, 3987, 3946, 3866, 3858, 3856, 3838, 3793, 3701, 3672, 3646, 3409, 3349, 3326]\n",
      "CPU times: user 5.5 s, sys: 162 ms, total: 5.67 s\n",
      "Wall time: 5.67 s\n"
     ]
    }
   ],
   "source": [
    "%%time\n",
    "get_cluster_idx = 10\n",
    "\n",
    "len_cluster, max_cluster, mean_cluster, list_len_session, len_session, num_images_in_cluster, num_edges_in_cluster =\\\n",
    "  get_cluster(data_df_1, edge_df_1, get_cluster_idx = get_cluster_idx)\n",
    "\n",
    "print('session 클러스터의 개수:', len_cluster)\n",
    "print('최대 클러스터의 sessioin 개수:', max_cluster)\n",
    "print('클러스터들 평균 session 개수:', max_cluster)\n",
    "print(get_cluster_idx,'번째 클러스터의 session 개수:', len_session)\n",
    "print(get_cluster_idx,'번째 클러스터의 image 개수:', num_images_in_cluster)\n",
    "print(get_cluster_idx,'번째 클러스터의 edge 개수:', num_edges_in_cluster)\n",
    "print(list_len_session[:30])"
   ]
  },
  {
   "cell_type": "code",
   "execution_count": 54,
   "metadata": {},
   "outputs": [
    {
     "name": "stdout",
     "output_type": "stream",
     "text": [
      "session 클러스터의 개수: 50000\n",
      "최대 클러스터의 sessioin 개수: 1558\n",
      "클러스터들 평균 session 개수: 1558\n",
      "10 번째 클러스터의 session 개수: 1558\n",
      "10 번째 클러스터의 image 개수: 15383\n",
      "10 번째 클러스터의 edge 개수: 0\n",
      "[1558, 1068, 1004, 995, 945, 916, 915, 907, 901, 900, 890, 864, 843, 839, 835, 824, 823, 813, 813, 796, 794, 790, 779, 775, 771, 771, 769, 769, 762, 754]\n",
      "CPU times: user 4min 26s, sys: 33.7 s, total: 4min 59s\n",
      "Wall time: 5min 15s\n"
     ]
    }
   ],
   "source": [
    "%%time\n",
    "get_cluster_idx = 10\n",
    "\n",
    "len_cluster, max_cluster, mean_cluster, list_len_session, len_session, num_images_in_cluster, num_edges_in_cluster =\\\n",
    "  get_cluster(data_df_2, edge_df_2, get_cluster_idx = get_cluster_idx)\n",
    "\n",
    "print('session 클러스터의 개수:', len_cluster)\n",
    "print('최대 클러스터의 sessioin 개수:', max_cluster)\n",
    "print('클러스터들 평균 session 개수:', max_cluster)\n",
    "print(get_cluster_idx,'번째 클러스터의 session 개수:', len_session)\n",
    "print(get_cluster_idx,'번째 클러스터의 image 개수:', num_images_in_cluster)\n",
    "print(get_cluster_idx,'번째 클러스터의 edge 개수:', num_edges_in_cluster)\n",
    "print(list_len_session[:30])"
   ]
  },
  {
   "cell_type": "code",
   "execution_count": 55,
   "metadata": {},
   "outputs": [
    {
     "name": "stdout",
     "output_type": "stream",
     "text": [
      "session 클러스터의 개수: 10000\n",
      "최대 클러스터의 sessioin 개수: 848\n",
      "클러스터들 평균 session 개수: 848\n",
      "10 번째 클러스터의 session 개수: 848\n",
      "10 번째 클러스터의 image 개수: 8555\n",
      "10 번째 클러스터의 edge 개수: 0\n",
      "[848, 826, 816, 802, 800, 790, 785, 725, 718, 697, 666, 656, 641, 638, 633, 633, 632, 626, 623, 614, 608, 605, 604, 602, 602, 594, 584, 567, 565, 561]\n",
      "CPU times: user 50.4 s, sys: 893 ms, total: 51.3 s\n",
      "Wall time: 51.3 s\n"
     ]
    }
   ],
   "source": [
    "%%time\n",
    "get_cluster_idx = 10\n",
    "\n",
    "len_cluster, max_cluster, mean_cluster, list_len_session, len_session, num_images_in_cluster, num_edges_in_cluster =\\\n",
    "  get_cluster(data_df_3, edge_df_3, get_cluster_idx = get_cluster_idx)\n",
    "\n",
    "print('session 클러스터의 개수:', len_cluster)\n",
    "print('최대 클러스터의 sessioin 개수:', max_cluster)\n",
    "print('클러스터들 평균 session 개수:', max_cluster)\n",
    "print(get_cluster_idx,'번째 클러스터의 session 개수:', len_session)\n",
    "print(get_cluster_idx,'번째 클러스터의 image 개수:', num_images_in_cluster)\n",
    "print(get_cluster_idx,'번째 클러스터의 edge 개수:', num_edges_in_cluster)\n",
    "print(list_len_session[:30])"
   ]
  }
 ],
 "metadata": {
  "kernelspec": {
   "display_name": "Python 3.11.0 64-bit",
   "language": "python",
   "name": "python3"
  },
  "language_info": {
   "codemirror_mode": {
    "name": "ipython",
    "version": 3
   },
   "file_extension": ".py",
   "mimetype": "text/x-python",
   "name": "python",
   "nbconvert_exporter": "python",
   "pygments_lexer": "ipython3",
   "version": "3.11.0"
  },
  "orig_nbformat": 4,
  "vscode": {
   "interpreter": {
    "hash": "aee8b7b246df8f9039afb4144a1f6fd8d2ca17a180786b69acc140d282b71a49"
   }
  }
 },
 "nbformat": 4,
 "nbformat_minor": 2
}
